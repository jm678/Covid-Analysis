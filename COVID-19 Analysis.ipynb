{
 "cells": [
  {
   "cell_type": "code",
   "execution_count": 2,
   "metadata": {},
   "outputs": [],
   "source": [
    "import pandas as pd\n",
    "import numpy as np\n",
    "import matplotlib.pyplot as plt\n",
    "%matplotlib inline\n",
    "from sklearn.model_selection import train_test_split\n",
    "import seaborn as sns\n",
    "from itertools import cycle, islice\n",
    "from sklearn.model_selection import cross_val_score\n",
    "from sklearn import preprocessing\n",
    "from sklearn.linear_model import LogisticRegression\n",
    "from sklearn.metrics import mean_squared_error\n",
    "from sklearn.metrics import mean_absolute_error\n",
    "from sklearn.model_selection import train_test_split\n",
    "from sklearn.preprocessing import StandardScaler\n",
    "from pandas.plotting import autocorrelation_plot\n",
    "\n"
   ]
  },
  {
   "cell_type": "code",
   "execution_count": 3,
   "metadata": {},
   "outputs": [],
   "source": [
    "#read in data\n",
    "state_data = pd.read_csv(\"4.18states.csv\")\n",
    "counties = pd.read_csv(\"abridged_counties.csv\")\n",
    "confirmed_cases_ts = pd.read_csv(\"time_series_covid19_confirmed_US.csv\")\n",
    "deaths_ts = pd.read_csv(\"time_series_covid19_deaths_US.csv\")"
   ]
  },
  {
   "cell_type": "code",
   "execution_count": 4,
   "metadata": {
    "scrolled": true
   },
   "outputs": [],
   "source": [
    "#selecting columns of interest\n",
    "counties_mod = counties[[\"CountyName\",\"#FTEHospitalTotal2017\",\"TotalM.D.'s,TotNon-FedandFed2017\",\"#Hospitals\", \"#ICU_beds\",\"countyFIPS\"]]\n",
    "counties_mod=counties_mod.rename(columns={\"countyFIPS\": \"FIPS\"})\n",
    "counties_mod = counties_mod.set_index(\"FIPS\")\n"
   ]
  },
  {
   "cell_type": "code",
   "execution_count": 5,
   "metadata": {},
   "outputs": [],
   "source": [
    "#FIPS = way of identifying each county\n",
    "deaths_ts_mod = deaths_ts.set_index(\"FIPS\")\n",
    "\n",
    "#select date columns which show the number of\n",
    "#deaths per day\n",
    "deaths_ts_mod=deaths_ts_mod.iloc[:,12:]\n",
    "\n",
    "#sum number of deaths for each county\n",
    "deaths_ts_mod['Deaths']= deaths_ts_mod.iloc[:,12:].sum(axis=1)\n",
    "\n",
    "deaths_ts_mod = deaths_ts_mod[[\"Deaths\"]]\n",
    "\n",
    "#merge deaths_ts and counties_mod\n",
    "deaths_and_counties = pd.merge(counties_mod,deaths_ts_mod,how = \"inner\", on = \"FIPS\")\n",
    "\n",
    "\n",
    "deaths_and_counties = deaths_and_counties.drop([\"CountyName\"],axis = 1)"
   ]
  },
  {
   "cell_type": "code",
   "execution_count": 6,
   "metadata": {},
   "outputs": [],
   "source": [
    "#normalize data (all columns except the \"Deaths\" column)\n",
    "x2 = deaths_and_counties.values \n",
    "min_max_scaler = preprocessing.MinMaxScaler()\n",
    "x2_scaled = min_max_scaler.fit_transform(x2)\n",
    "normalized_table= pd.DataFrame(x2_scaled,columns=deaths_and_counties.columns)\n",
    "normalized_table = normalized_table.assign(Deaths=deaths_and_counties['Deaths'].values)"
   ]
  },
  {
   "cell_type": "code",
   "execution_count": 7,
   "metadata": {
    "scrolled": true
   },
   "outputs": [],
   "source": [
    "features = normalized_table\n",
    "\n",
    "# train_labels, test_labels\n",
    "train_features, test_features= train_test_split(features,test_size = 0.25,\n",
    "random_state = 42)\n",
    "\n",
    "#create and fit models\n",
    "logistic_model = LogisticRegression().fit(train_features[['#FTEHospitalTotal2017',\n",
    "\"TotalM.D.'s,TotNon-FedandFed2017\",\"#Hospitals\"]], train_features['Deaths'])\n",
    "\n",
    "logistic_test_model = LogisticRegression().fit(test_features[['#FTEHospitalTotal2017',\n",
    "\"TotalM.D.'s,TotNon-FedandFed2017\",\"#Hospitals\"]], test_features['Deaths'])\n"
   ]
  },
  {
   "cell_type": "code",
   "execution_count": 8,
   "metadata": {},
   "outputs": [
    {
     "data": {
      "text/plain": [
       "(0.6101910828025477, 0.640764331210191)"
      ]
     },
     "execution_count": 8,
     "metadata": {},
     "output_type": "execute_result"
    }
   ],
   "source": [
    "#get model accuracy\n",
    "lm_train_accuracy=logistic_model.score(train_features[[\"TotalM.D.'s,TotNon-FedandFed2017\",'#FTEHospitalTotal2017',\n",
    "\"#Hospitals\"]],train_features['Deaths'])\n",
    "\n",
    "lm_test_accuracy=logistic_test_model.score(test_features[['#FTEHospitalTotal2017',\n",
    "\"TotalM.D.'s,TotNon-FedandFed2017\",\"#Hospitals\"]],test_features['Deaths'])\n",
    "\n",
    "\n",
    "lm_train_accuracy,lm_test_accuracy"
   ]
  },
  {
   "cell_type": "code",
   "execution_count": 9,
   "metadata": {},
   "outputs": [
    {
     "name": "stderr",
     "output_type": "stream",
     "text": [
      "/srv/conda/envs/data100/lib/python3.7/site-packages/sklearn/model_selection/_split.py:667: UserWarning: The least populated class in y has only 1 members, which is less than n_splits=5.\n",
      "  % (min_groups, self.n_splits)), UserWarning)\n"
     ]
    },
    {
     "data": {
      "text/plain": [
       "array([0.60934183, 0.61146497, 0.60934183, 0.60934183, 0.60934183])"
      ]
     },
     "execution_count": 9,
     "metadata": {},
     "output_type": "execute_result"
    }
   ],
   "source": [
    "X = train_features[[\"TotalM.D.'s,TotNon-FedandFed2017\",'#FTEHospitalTotal2017',\n",
    "\"#Hospitals\"]]\n",
    "y=train_features['Deaths']\n",
    "cross_val_score(logistic_model, X, y, cv=5)"
   ]
  },
  {
   "cell_type": "code",
   "execution_count": 10,
   "metadata": {
    "scrolled": true
   },
   "outputs": [
    {
     "data": {
      "text/plain": [
       "Text(0.5, 1.0, 'Deaths Frequency Per County')"
      ]
     },
     "execution_count": 10,
     "metadata": {},
     "output_type": "execute_result"
    },
    {
     "data": {
      "image/png": "[encoded data removed]",
      "text/plain": [
       "<Figure size 432x288 with 1 Axes>"
      ]
     },
     "metadata": {
      "needs_background": "light"
     },
     "output_type": "display_data"
    }
   ],
   "source": [
    "#Histogram Visualization\n",
    "df = features\n",
    "hist=df.hist(column = \"Deaths\",bins=10000,color = 'r')\n",
    "plt.xlim([0.0,300.0])\n",
    "plt.xlabel(\"Number of Deaths Per County\",fontsize=15)\n",
    "plt.ylabel(\"Frequency\",fontsize=15)\n",
    "plt.title(\"Deaths Frequency Per County\")"
   ]
  },
  {
   "cell_type": "code",
   "execution_count": 11,
   "metadata": {},
   "outputs": [
    {
     "data": {
      "text/plain": [
       "Text(0.5, 1.0, '#Hospitals vs Deaths Per County')"
      ]
     },
     "execution_count": 11,
     "metadata": {},
     "output_type": "execute_result"
    },
    {
     "data": {
      "image/png": "[encoded data removed]",
      "text/plain": [
       "<Figure size 432x288 with 1 Axes>"
      ]
     },
     "metadata": {
      "needs_background": "light"
     },
     "output_type": "display_data"
    }
   ],
   "source": [
    "#Scatterplot\n",
    "deaths_ts_graphs_mod = deaths_ts_mod.tail(-24)\n",
    "df = pd.DataFrame(np.random.randn(10,3231), columns=[deaths_ts_graphs_mod['Deaths'],counties[\"#Hospitals\"]])\n",
    "plt.scatter(deaths_ts_graphs_mod['Deaths'], counties[\"#Hospitals\"],c='r')\n",
    "plt.xlim([0.0,500.0])\n",
    "plt.ylim([0.0,50.0])\n",
    "plt.xlabel(\"#Hospitals\")\n",
    "plt.ylabel(\"Deaths\")\n",
    "plt.title(\"#Hospitals vs Deaths Per County\")"
   ]
  },
  {
   "cell_type": "code",
   "execution_count": 12,
   "metadata": {},
   "outputs": [
    {
     "data": {
      "text/plain": [
       "Text(0.5, 1.0, '#FTEHospitalTotal2017 vs Deaths')"
      ]
     },
     "execution_count": 12,
     "metadata": {},
     "output_type": "execute_result"
    },
    {
     "data": {
      "image/png": "[encoded data removed]",
      "text/plain": [
       "<Figure size 432x288 with 1 Axes>"
      ]
     },
     "metadata": {
      "needs_background": "light"
     },
     "output_type": "display_data"
    }
   ],
   "source": [
    "#Scatterplot\n",
    "deaths_ts_graphs_mod = deaths_ts_mod.tail(-24)\n",
    "df = pd.DataFrame(np.random.randn(10,3231), columns=[deaths_ts_graphs_mod['Deaths'],counties[\"#FTEHospitalTotal2017\"]])\n",
    "plt.scatter(deaths_ts_graphs_mod['Deaths'], counties[\"#FTEHospitalTotal2017\"],c='r')\n",
    "plt.xlim([0.0,300.0])\n",
    "plt.ylim([0.0,12000.0])\n",
    "plt.xlabel(\"Deaths\")\n",
    "plt.ylabel(\"#FTEHospitalTotal2017\")\n",
    "plt.title(\"#FTEHospitalTotal2017 vs Deaths\")"
   ]
  }
 ],
 "metadata": {
  "kernelspec": {
   "display_name": "Python 3",
   "language": "python",
   "name": "python3"
  },
  "language_info": {
   "codemirror_mode": {
    "name": "ipython",
    "version": 3
   },
   "file_extension": ".py",
   "mimetype": "text/x-python",
   "name": "python",
   "nbconvert_exporter": "python",
   "pygments_lexer": "ipython3",
   "version": "3.7.6"
  }
 },
 "nbformat": 4,
 "nbformat_minor": 4
}
